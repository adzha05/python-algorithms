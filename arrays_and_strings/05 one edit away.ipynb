{
 "cells": [
  {
   "cell_type": "code",
   "execution_count": 30,
   "metadata": {},
   "outputs": [],
   "source": [
    "def one_edit_away(s1,s2):\n",
    "    if len(s1) == len(s2):\n",
    "        return one_edit_replace(s1,s2)\n",
    "    if len(s1) + 1 == len(s2):\n",
    "        return one_edit_insert(s1, s2)\n",
    "    if len(s1) - 1 ==len(s2):\n",
    "        return one_edit_insert(s2, s1)\n",
    "    return False\n",
    "def one_edit_replace(s1,s2):\n",
    "    found_different_chars = False\n",
    "    for i in range(len(s1)):\n",
    "        if s1[i] != s2[i]:\n",
    "            if found_different_chars:\n",
    "                return False\n",
    "            else:\n",
    "                found_different_chars = True\n",
    "    return True\n",
    "def one_edit_insert(s1,s2):\n",
    "    i1=0\n",
    "    for i2 in range(len(s2)):\n",
    "        if i2 == len(s2)-1:\n",
    "            return True\n",
    "        if s1[i1] != s2[i2]:\n",
    "            print(\"i1=\", i1, \"i2=\", i2)\n",
    "            if i1 != i2:\n",
    "                return False\n",
    "        else:\n",
    "            \n",
    "            print(\"i1=\", i1, \"i2=\", i2)\n",
    "            i1+=1\n",
    "    return True"
   ]
  },
  {
   "cell_type": "code",
   "execution_count": 31,
   "metadata": {},
   "outputs": [
    {
     "name": "stdout",
     "output_type": "stream",
     "text": [
      "i1= 0 i2= 0\n",
      "i1= 1 i2= 1\n",
      "i1= 2 i2= 2\n",
      "i1= 3 i2= 3\n"
     ]
    },
    {
     "data": {
      "text/plain": [
       "True"
      ]
     },
     "execution_count": 31,
     "metadata": {},
     "output_type": "execute_result"
    }
   ],
   "source": [
    "one_edit_away(\"pale\",\"pales\")"
   ]
  },
  {
   "cell_type": "code",
   "execution_count": 32,
   "metadata": {},
   "outputs": [
    {
     "data": {
      "text/plain": [
       "False"
      ]
     },
     "execution_count": 32,
     "metadata": {},
     "output_type": "execute_result"
    }
   ],
   "source": [
    "one_edit_away(\"pales\",\"plesddf\")"
   ]
  },
  {
   "cell_type": "code",
   "execution_count": null,
   "metadata": {
    "collapsed": true
   },
   "outputs": [],
   "source": []
  },
  {
   "cell_type": "code",
   "execution_count": null,
   "metadata": {
    "collapsed": true
   },
   "outputs": [],
   "source": []
  }
 ],
 "metadata": {
  "kernelspec": {
   "display_name": "Python 3",
   "language": "python",
   "name": "python3"
  },
  "language_info": {
   "codemirror_mode": {
    "name": "ipython",
    "version": 3
   },
   "file_extension": ".py",
   "mimetype": "text/x-python",
   "name": "python",
   "nbconvert_exporter": "python",
   "pygments_lexer": "ipython3",
   "version": "3.6.1"
  }
 },
 "nbformat": 4,
 "nbformat_minor": 2
}
