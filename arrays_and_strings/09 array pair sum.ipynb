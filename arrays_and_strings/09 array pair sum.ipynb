{
 "cells": [
  {
   "cell_type": "markdown",
   "metadata": {},
   "source": [
    "Problem\n",
    "Given an integer array, output all the unique pairs that sum up to a specific value k.\n",
    "\n",
    "So the input:\n",
    "\n",
    "pair_sum([1,3,2,2],4)\n",
    "\n",
    "would return 2 pairs:\n",
    "\n",
    " (1,3)\n",
    " (2,2)\n",
    "\n",
    "NOTE: FOR TESTING PURPOSES CHANGE YOUR FUNCTION SO IT OUTPUTS THE NUMBER OF PAIRS"
   ]
  },
  {
   "cell_type": "code",
   "execution_count": 74,
   "metadata": {},
   "outputs": [],
   "source": [
    "def pair_sum1(arr, sum_num):\n",
    "    tup1=()\n",
    "    for i in range(len(arr)):\n",
    "        target_value=sum_num-arr[i]\n",
    "        if target_value in arr:\n",
    "            target_index = arr.index(target_value)\n",
    "            print(arr[i], target_value, i, target_index)\n",
    "            if i != target_index:\n",
    "                tup1 = tup1 +((arr[i],target_value),)\n",
    "                \n",
    "     #   if sum_num - i in arr and i<=sum_num-i:\n",
    "      #      tup1 = tup1 +((i,sum_num-i),)\n",
    "    print(tup1)"
   ]
  },
  {
   "cell_type": "code",
   "execution_count": 75,
   "metadata": {},
   "outputs": [
    {
     "name": "stdout",
     "output_type": "stream",
     "text": [
      "2 2 0 0\n",
      "2 2 1 0\n",
      "2 2 2 0\n",
      "((2, 2), (2, 2))\n"
     ]
    }
   ],
   "source": [
    "pair_sum1([2,2,2],4)"
   ]
  },
  {
   "cell_type": "code",
   "execution_count": 100,
   "metadata": {
    "collapsed": true
   },
   "outputs": [],
   "source": [
    "def pair_sum2(arr,k):\n",
    "    \n",
    "    if len(arr)<2:\n",
    "#print(\"here\")\n",
    "        return False\n",
    "    \n",
    "    # Sets for tracking\n",
    "    seen = set()\n",
    "    output = set()\n",
    "    \n",
    "    # For every number in array\n",
    "    for num in arr:\n",
    "        \n",
    "        # Set target difference\n",
    "        target = k-num\n",
    "        print(\"target= \", target)\n",
    "        \n",
    "        # Add it to set if target hasn't been seen\n",
    "        if target not in seen:\n",
    "            seen.add(num)\n",
    "            print(\"seen =\", seen)\n",
    "        \n",
    "        else:\n",
    "            # Add a tuple with the corresponding pair\n",
    "            output.add( (min(num,target),  max(num,target)) )\n",
    "            print(\"output =\", output)\n",
    "    \n",
    "    \n",
    "    # FOR TESTING\n",
    "    print(seen)\n",
    "    print(output)\n",
    "    return len(output)\n",
    "    # Nice one-liner for printing output\n",
    "    #return '\\n'.join(map(str,list(output)))"
   ]
  },
  {
   "cell_type": "code",
   "execution_count": 102,
   "metadata": {},
   "outputs": [
    {
     "name": "stdout",
     "output_type": "stream",
     "text": [
      "target=  2\n",
      "seen = {2}\n",
      "target=  2\n",
      "output = {(2, 2)}\n",
      "target=  1\n",
      "seen = {2, 3}\n",
      "target=  3\n",
      "output = {(1, 3), (2, 2)}\n",
      "target=  2\n",
      "output = {(1, 3), (2, 2)}\n",
      "target=  1\n",
      "seen = {2, 3}\n",
      "{2, 3}\n",
      "{(1, 3), (2, 2)}\n"
     ]
    },
    {
     "data": {
      "text/plain": [
       "2"
      ]
     },
     "execution_count": 102,
     "metadata": {},
     "output_type": "execute_result"
    }
   ],
   "source": [
    "pair_sum2([2,2,3,1,2,3],4)"
   ]
  },
  {
   "cell_type": "markdown",
   "metadata": {},
   "source": [
    "Find the Missing Element\n",
    "Problem\n",
    "Consider an array of non-negative integers. A second array is formed by shuffling the elements of the first array and deleting a random element. Given these two arrays, find which element is missing in the second array.\n",
    "\n",
    "Here is an example input, the first array is shuffled and the number 5 is removed to construct the second array.\n",
    "\n",
    "Input:\n",
    "\n",
    "finder([1,2,3,4,5,6,7],[3,7,2,1,4,6])\n",
    "\n",
    "Output:\n",
    "\n",
    "5 is the missing number\n"
   ]
  },
  {
   "cell_type": "code",
   "execution_count": 133,
   "metadata": {},
   "outputs": [],
   "source": [
    "def finder(arr1,arr2):\n",
    "    dict={}\n",
    "    for num in arr1:\n",
    "        if num in dict:\n",
    "            dict[num]+=1\n",
    "        else:\n",
    "            dict[num]=1\n",
    "    for num in arr2:\n",
    "        if num in dict:\n",
    "            dict[num]-=1\n",
    "        else:\n",
    "            dict[num]=-1\n",
    "    for key,value in dict.items():\n",
    "        if value != 0:\n",
    "            print(key, \"is missing number\")\n",
    "    print(dict)"
   ]
  },
  {
   "cell_type": "code",
   "execution_count": 135,
   "metadata": {},
   "outputs": [
    {
     "name": "stdout",
     "output_type": "stream",
     "text": [
      "8 is missing number\n",
      "{1: 0, 2: 0, 3: 0, 4: 0, 5: 0, 6: 0, 7: 0, 8: 1}\n"
     ]
    }
   ],
   "source": [
    "finder([1,2,3,4,5,5,6,7,8],[3,7,2,1,4,5,5,6])"
   ]
  },
  {
   "cell_type": "code",
   "execution_count": null,
   "metadata": {
    "collapsed": true
   },
   "outputs": [],
   "source": []
  }
 ],
 "metadata": {
  "kernelspec": {
   "display_name": "Python 3",
   "language": "python",
   "name": "python3"
  },
  "language_info": {
   "codemirror_mode": {
    "name": "ipython",
    "version": 3
   },
   "file_extension": ".py",
   "mimetype": "text/x-python",
   "name": "python",
   "nbconvert_exporter": "python",
   "pygments_lexer": "ipython3",
   "version": "3.6.1"
  }
 },
 "nbformat": 4,
 "nbformat_minor": 2
}
