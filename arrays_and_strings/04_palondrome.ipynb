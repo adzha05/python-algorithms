{
 "cells": [
  {
   "cell_type": "code",
   "execution_count": 48,
   "metadata": {
    "collapsed": true
   },
   "outputs": [],
   "source": [
    "def is_palindrome(s):\n",
    "    mid_index = (len(s)-1)//2\n",
    "    for i in range(mid_index+1):\n",
    "       # print('i=',i,'last',len(s)-i-1)\n",
    "        if s[i]!=s[len(s)-i-1]:\n",
    "            return False\n",
    "    return True\n",
    "    "
   ]
  },
  {
   "cell_type": "code",
   "execution_count": 51,
   "metadata": {},
   "outputs": [
    {
     "data": {
      "text/plain": [
       "True"
      ]
     },
     "execution_count": 51,
     "metadata": {},
     "output_type": "execute_result"
    }
   ],
   "source": [
    "is_palindrome('cabac')"
   ]
  },
  {
   "cell_type": "code",
   "execution_count": 52,
   "metadata": {},
   "outputs": [
    {
     "data": {
      "text/plain": [
       "True"
      ]
     },
     "execution_count": 52,
     "metadata": {},
     "output_type": "execute_result"
    }
   ],
   "source": [
    "is_palindrome('civic')"
   ]
  },
  {
   "cell_type": "code",
   "execution_count": 25,
   "metadata": {
    "collapsed": true
   },
   "outputs": [],
   "source": [
    "def palindrome_permutation(s):\n",
    "    dict = {}\n",
    "    for num in s:\n",
    "        if num in dict:\n",
    "            dict[num]+=1\n",
    "        else:\n",
    "            dict[num]=1\n",
    "    print(dict)\n",
    "    odd = 0\n",
    "    for j in dict.values():\n",
    "        if j%2 !=0:\n",
    "            odd += j%2\n",
    "#string with even length must have all even counts of characters\n",
    "    if len(s)%2 == 0 and odd > 0:\n",
    "        print(odd)\n",
    "        return False\n",
    "#string with odd length  must have odd number of exact one character\n",
    "    if len(s)%2 != 0 and odd != 1:\n",
    "        print(odd)\n",
    "        return False\n",
    "    print(odd)\n",
    "    return True"
   ]
  },
  {
   "cell_type": "code",
   "execution_count": 29,
   "metadata": {},
   "outputs": [
    {
     "name": "stdout",
     "output_type": "stream",
     "text": [
      "{'a': 3, 'c': 4, 'd': 1, 'e': 1}\n",
      "3\n"
     ]
    },
    {
     "data": {
      "text/plain": [
       "False"
      ]
     },
     "execution_count": 29,
     "metadata": {},
     "output_type": "execute_result"
    }
   ],
   "source": [
    "palindrome_permutation('acdeaaccc')"
   ]
  },
  {
   "cell_type": "code",
   "execution_count": null,
   "metadata": {
    "collapsed": true
   },
   "outputs": [],
   "source": []
  }
 ],
 "metadata": {
  "kernelspec": {
   "display_name": "Python 3",
   "language": "python",
   "name": "python3"
  },
  "language_info": {
   "codemirror_mode": {
    "name": "ipython",
    "version": 3
   },
   "file_extension": ".py",
   "mimetype": "text/x-python",
   "name": "python",
   "nbconvert_exporter": "python",
   "pygments_lexer": "ipython3",
   "version": "3.6.1"
  }
 },
 "nbformat": 4,
 "nbformat_minor": 2
}
