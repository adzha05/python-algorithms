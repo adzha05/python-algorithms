{
 "cells": [
  {
   "cell_type": "code",
   "execution_count": 156,
   "metadata": {
    "collapsed": true
   },
   "outputs": [],
   "source": [
    "s=\" f g  \""
   ]
  },
  {
   "cell_type": "code",
   "execution_count": 157,
   "metadata": {},
   "outputs": [],
   "source": [
    "def space_replace(s):\n",
    "    word = \"\"\n",
    "    for i in range(len(s)):\n",
    "        if s[i] == \" \":\n",
    "            word += '%20'\n",
    "        else:\n",
    "            word += s[i]\n",
    "    return word"
   ]
  },
  {
   "cell_type": "code",
   "execution_count": 158,
   "metadata": {},
   "outputs": [
    {
     "data": {
      "text/plain": [
       "'%20f%20g%20%20'"
      ]
     },
     "execution_count": 158,
     "metadata": {},
     "output_type": "execute_result"
    }
   ],
   "source": [
    "space_replace(s)"
   ]
  },
  {
   "cell_type": "code",
   "execution_count": 159,
   "metadata": {},
   "outputs": [
    {
     "data": {
      "text/plain": [
       "' f g  '"
      ]
     },
     "execution_count": 159,
     "metadata": {},
     "output_type": "execute_result"
    }
   ],
   "source": [
    "s"
   ]
  },
  {
   "cell_type": "markdown",
   "metadata": {},
   "source": [
    "s[i]=\"%\"\n",
    "TypeError: 'str' object does not support item assignment\n",
    "    \n",
    "Strings in python are immutable, so you cannot treat them as a list and assign to indices.\n",
    "\n",
    "Use .replace() instead:\n",
    "\n",
    "line = line.replace(';', ':')"
   ]
  },
  {
   "cell_type": "code",
   "execution_count": 160,
   "metadata": {},
   "outputs": [],
   "source": [
    "def space_replace2(s):\n",
    "    w = \"\"\n",
    "    j = 0\n",
    "    for i in range(len(s)):\n",
    "        if s[i] == \" \":\n",
    "            w = w[:j]+'%20'+w[j+3:]\n",
    "            j +=3\n",
    "        else:\n",
    "            w = w[:j]+s[i]+w[j+1:]\n",
    "            j+=1\n",
    "    return w"
   ]
  },
  {
   "cell_type": "code",
   "execution_count": 161,
   "metadata": {},
   "outputs": [
    {
     "name": "stdout",
     "output_type": "stream",
     "text": [
      "0123aaa7\n"
     ]
    }
   ],
   "source": [
    "a = \"01234567\"\n",
    "a = a[:4]+\"aaa\"+a[7:]\n",
    "print(a)"
   ]
  },
  {
   "cell_type": "code",
   "execution_count": 162,
   "metadata": {},
   "outputs": [
    {
     "data": {
      "text/plain": [
       "'%20f%20g%20%20'"
      ]
     },
     "execution_count": 162,
     "metadata": {},
     "output_type": "execute_result"
    }
   ],
   "source": [
    "space_replace2(s)"
   ]
  },
  {
   "cell_type": "code",
   "execution_count": 163,
   "metadata": {},
   "outputs": [
    {
     "data": {
      "text/plain": [
       "' f g  '"
      ]
     },
     "execution_count": 163,
     "metadata": {},
     "output_type": "execute_result"
    }
   ],
   "source": [
    "s"
   ]
  },
  {
   "cell_type": "code",
   "execution_count": null,
   "metadata": {
    "collapsed": true
   },
   "outputs": [],
   "source": []
  }
 ],
 "metadata": {
  "kernelspec": {
   "display_name": "Python 3",
   "language": "python",
   "name": "python3"
  },
  "language_info": {
   "codemirror_mode": {
    "name": "ipython",
    "version": 3
   },
   "file_extension": ".py",
   "mimetype": "text/x-python",
   "name": "python",
   "nbconvert_exporter": "python",
   "pygments_lexer": "ipython3",
   "version": "3.6.1"
  }
 },
 "nbformat": 4,
 "nbformat_minor": 2
}
