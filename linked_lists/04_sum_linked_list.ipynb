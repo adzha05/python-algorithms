{
 "cells": [
  {
   "cell_type": "code",
   "execution_count": 1,
   "metadata": {
    "collapsed": true
   },
   "outputs": [],
   "source": [
    "class Node(object):\n",
    "    \n",
    "    def __init__(self,value):\n",
    "        \n",
    "        self.value = value\n",
    "        self.nextnode = None"
   ]
  },
  {
   "cell_type": "code",
   "execution_count": 17,
   "metadata": {
    "collapsed": true
   },
   "outputs": [],
   "source": [
    "a1 = Node(7)\n",
    "b1 = Node(1)\n",
    "c1 = Node(6)\n",
    "a1.nextnode = b1\n",
    "b1.nextnode = c1\n",
    "a2 = Node(5)\n",
    "b2 = Node(9)\n",
    "c2 = Node(2)\n",
    "a2.nextnode = b2\n",
    "b2.nextnode = c2\n"
   ]
  },
  {
   "cell_type": "code",
   "execution_count": 18,
   "metadata": {},
   "outputs": [],
   "source": [
    "def read_number(head):\n",
    "    pointer = head\n",
    "    num_string =''\n",
    "    while pointer:\n",
    "        num_string = str(pointer.value) + num_string\n",
    "        pointer = pointer.nextnode\n",
    "    return int(num_string)"
   ]
  },
  {
   "cell_type": "code",
   "execution_count": 19,
   "metadata": {},
   "outputs": [
    {
     "data": {
      "text/plain": [
       "617"
      ]
     },
     "execution_count": 19,
     "metadata": {},
     "output_type": "execute_result"
    }
   ],
   "source": [
    "read_number(a1)"
   ]
  },
  {
   "cell_type": "code",
   "execution_count": 20,
   "metadata": {},
   "outputs": [
    {
     "data": {
      "text/plain": [
       "295"
      ]
     },
     "execution_count": 20,
     "metadata": {},
     "output_type": "execute_result"
    }
   ],
   "source": [
    "read_number(a2)"
   ]
  },
  {
   "cell_type": "code",
   "execution_count": 23,
   "metadata": {
    "collapsed": true
   },
   "outputs": [],
   "source": [
    "class LinkedList(object):\n",
    "    \n",
    "    def __init__(self):\n",
    "        self.head = None\n",
    "        self.tail = None\n",
    "        \n",
    "    def AddNode(self, value):\n",
    "        new_node = Node(value)\n",
    "        if self.head == None:\n",
    "            self.head = new_node\n",
    "            self.tail = self.head\n",
    "        else:\n",
    "            self.tail.nextnode = new_node\n",
    "            self.tail = new_node"
   ]
  },
  {
   "cell_type": "code",
   "execution_count": 37,
   "metadata": {
    "collapsed": true
   },
   "outputs": [],
   "source": [
    "def sum_linked_list(head1,head2):\n",
    "    sum_list = LinkedList()\n",
    "    sum1 = str(read_number(head1)+read_number(head2))\n",
    "    for i in range(len(sum1)-1,-1,-1):\n",
    "        sum_list.AddNode(sum1[i])\n",
    "        \n",
    "    p = sum_list.head\n",
    "    while p:\n",
    "        print(\"node value\", p.value)\n",
    "        p = p.nextnode\n",
    "    print(sum1)"
   ]
  },
  {
   "cell_type": "code",
   "execution_count": 38,
   "metadata": {
    "collapsed": true
   },
   "outputs": [],
   "source": [
    "def sum_linked_list2(head1,head2):\n",
    "    sum_list = LinkedList()\n",
    "    sum1 = str(read_number(head1)+read_number(head2))\n",
    "    for char in sum1[ : :-1]:\n",
    "        sum_list.AddNode(char)\n",
    "        \n",
    "    p = sum_list.head\n",
    "    while p:\n",
    "        print(\"node value\", p.value)\n",
    "        p = p.nextnode\n",
    "    print(sum1)"
   ]
  },
  {
   "cell_type": "code",
   "execution_count": 39,
   "metadata": {},
   "outputs": [
    {
     "name": "stdout",
     "output_type": "stream",
     "text": [
      "node value 2\n",
      "node value 1\n",
      "node value 9\n",
      "912\n"
     ]
    }
   ],
   "source": [
    "sum_linked_list2(a1,a2)"
   ]
  },
  {
   "cell_type": "code",
   "execution_count": 40,
   "metadata": {
    "collapsed": true
   },
   "outputs": [],
   "source": [
    "s = 'Don Quijote'"
   ]
  },
  {
   "cell_type": "code",
   "execution_count": 34,
   "metadata": {},
   "outputs": [
    {
     "data": {
      "text/plain": [
       "'ojiu'"
      ]
     },
     "execution_count": 34,
     "metadata": {},
     "output_type": "execute_result"
    }
   ],
   "source": [
    "s[8:4:-1]"
   ]
  },
  {
   "cell_type": "code",
   "execution_count": null,
   "metadata": {
    "collapsed": true
   },
   "outputs": [],
   "source": []
  }
 ],
 "metadata": {
  "kernelspec": {
   "display_name": "Python 3",
   "language": "python",
   "name": "python3"
  },
  "language_info": {
   "codemirror_mode": {
    "name": "ipython",
    "version": 3
   },
   "file_extension": ".py",
   "mimetype": "text/x-python",
   "name": "python",
   "nbconvert_exporter": "python",
   "pygments_lexer": "ipython3",
   "version": "3.6.1"
  }
 },
 "nbformat": 4,
 "nbformat_minor": 2
}
