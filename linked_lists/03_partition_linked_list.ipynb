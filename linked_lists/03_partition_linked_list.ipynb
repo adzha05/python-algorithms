{
 "cells": [
  {
   "cell_type": "code",
   "execution_count": 1,
   "metadata": {
    "collapsed": true
   },
   "outputs": [],
   "source": [
    "class Node(object):\n",
    "    \n",
    "    def __init__(self,value):\n",
    "        \n",
    "        self.value = value\n",
    "        self.nextnode = None"
   ]
  },
  {
   "cell_type": "code",
   "execution_count": 15,
   "metadata": {
    "collapsed": true
   },
   "outputs": [],
   "source": [
    "a = Node(1)\n",
    "b = Node(3)\n",
    "c = Node(10)\n",
    "d = Node(8)\n",
    "e = Node(2)\n",
    "f = Node(4)\n",
    "\n",
    "a.nextnode = b\n",
    "b.nextnode = c\n",
    "c.nextnode = d\n",
    "d.nextnode = e\n",
    "e.nextnode = f"
   ]
  },
  {
   "cell_type": "code",
   "execution_count": 84,
   "metadata": {},
   "outputs": [],
   "source": [
    "def partition1(head,pvalue):\n",
    "    point = head\n",
    "    before_head = None\n",
    "    after_head = None\n",
    "    before_previous = before_head\n",
    "    after_previous = after_head\n",
    "    while point:\n",
    "        new_node = Node(point.value)\n",
    "        if point.value < pvalue:\n",
    "            print('new_node', new_node.value)\n",
    "            if before_head == None:\n",
    "                before_head = new_node\n",
    "                before_previous = before_head\n",
    "            else:\n",
    "                before_previous.nextnode = new_node\n",
    "                before_previous = new_node\n",
    "                print('we here before')\n",
    "        else:\n",
    "            if after_head == None:\n",
    "                after_head = new_node\n",
    "                after_previous = after_head\n",
    "            else:\n",
    "                after_previous.nextnode = new_node\n",
    "                after_previous = new_node\n",
    "                print('we here after')\n",
    "        point = point.nextnode\n",
    "        \n",
    "    pointer = before_head\n",
    "    while pointer:\n",
    "        print(\"before list\", pointer.value)\n",
    "        pointer = pointer.nextnode\n",
    "    pointer = after_head\n",
    "    while pointer:\n",
    "        print(\"after list\", pointer.value)\n",
    "        pointer = pointer.nextnode\n",
    "    \n",
    "            "
   ]
  },
  {
   "cell_type": "code",
   "execution_count": 76,
   "metadata": {},
   "outputs": [
    {
     "name": "stdout",
     "output_type": "stream",
     "text": [
      "new_node 1\n",
      "new_node 3\n",
      "we here before\n",
      "we here after\n",
      "new_node 2\n",
      "we here before\n",
      "we here after\n",
      "before list 1\n",
      "before list 3\n",
      "before list 2\n",
      "after list 10\n",
      "after list 8\n",
      "after list 4\n"
     ]
    }
   ],
   "source": [
    "partition1(a,4)"
   ]
  },
  {
   "cell_type": "code",
   "execution_count": 90,
   "metadata": {
    "collapsed": true
   },
   "outputs": [],
   "source": [
    "class LinkedList(object):\n",
    "    \n",
    "    def __init__(self):\n",
    "        self.head = None\n",
    "        self.tail = None\n",
    "        \n",
    "    def AddNode(self, value):\n",
    "        new_node = Node(value)\n",
    "        if self.head == None:\n",
    "            self.head = new_node\n",
    "            self.tail = self.head\n",
    "        else:\n",
    "            self.tail.nextnode = new_node\n",
    "            self.tail = new_node"
   ]
  },
  {
   "cell_type": "code",
   "execution_count": 98,
   "metadata": {
    "collapsed": true
   },
   "outputs": [],
   "source": [
    "def partition2(head, pvalue):\n",
    "    pointer = head\n",
    "    before = LinkedList()\n",
    "    after = LinkedList()\n",
    "    while pointer:\n",
    "        if pointer.value < pvalue:\n",
    "            before.AddNode(pointer.value)\n",
    "        elif pointer.value > pvalue:\n",
    "            after.AddNode(pointer.value)\n",
    "        pointer = pointer.nextnode\n",
    "    before.AddNode(pvalue)\n",
    "    before.tail.nextnode = after.head\n",
    "    \n",
    "    \n",
    "    pointer = before.head\n",
    "    while pointer:\n",
    "        print(\"new list sorted\", pointer.value)\n",
    "        pointer = pointer.nextnode\n",
    "    "
   ]
  },
  {
   "cell_type": "code",
   "execution_count": 99,
   "metadata": {},
   "outputs": [
    {
     "name": "stdout",
     "output_type": "stream",
     "text": [
      "new list sorted 1\n",
      "new list sorted 3\n",
      "new list sorted 2\n",
      "new list sorted 4\n",
      "new list sorted 10\n",
      "new list sorted 8\n"
     ]
    }
   ],
   "source": [
    "partition2(a,4)"
   ]
  },
  {
   "cell_type": "code",
   "execution_count": null,
   "metadata": {
    "collapsed": true
   },
   "outputs": [],
   "source": []
  }
 ],
 "metadata": {
  "kernelspec": {
   "display_name": "Python 3",
   "language": "python",
   "name": "python3"
  },
  "language_info": {
   "codemirror_mode": {
    "name": "ipython",
    "version": 3
   },
   "file_extension": ".py",
   "mimetype": "text/x-python",
   "name": "python",
   "nbconvert_exporter": "python",
   "pygments_lexer": "ipython3",
   "version": "3.6.1"
  }
 },
 "nbformat": 4,
 "nbformat_minor": 2
}
