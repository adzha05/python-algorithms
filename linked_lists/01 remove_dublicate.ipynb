{
 "cells": [
  {
   "cell_type": "code",
   "execution_count": 143,
   "metadata": {},
   "outputs": [],
   "source": [
    "class Node:\n",
    "\n",
    "    def __init__(self, value):\n",
    "        self.value = value\n",
    "        self.nextnode  = None\n",
    "    \n",
    "    def remove_dublicate(self,node):\n",
    "        self.vals = set()\n",
    "        self.vals.add(node.value)\n",
    "        previous_pointer = node\n",
    "        pointer = previous_pointer.nextnode\n",
    "        while pointer:\n",
    "            if pointer.value in self.vals:\n",
    "                print('removenode')\n",
    "                previous_pointer.nextnode = pointer.nextnode\n",
    "                pointer = pointer.nextnode\n",
    "            else:\n",
    "                self.vals.add(pointer.value)\n",
    "                print('vals=',self.vals)\n",
    "                previous_pointer = previous_pointer.nextnode\n",
    "                pointer = pointer.nextnode"
   ]
  },
  {
   "cell_type": "code",
   "execution_count": 181,
   "metadata": {},
   "outputs": [],
   "source": [
    "a = Node(1)\n",
    "b = Node(1)\n",
    "c = Node(1)\n",
    "d = Node(1)\n",
    "e = Node(2)\n",
    "f = Node(5)\n",
    "\n",
    "a.nextnode = b\n",
    "b.nextnode = c\n",
    "c.nextnode = d\n",
    "d.nextnode = e\n",
    "e.nextnode = f"
   ]
  },
  {
   "cell_type": "code",
   "execution_count": 182,
   "metadata": {},
   "outputs": [],
   "source": [
    "def remove_dublicate2(head):\n",
    "    current = head\n",
    "    while current:\n",
    "        previous_pointer=current\n",
    "        pointer = current.nextnode\n",
    "        while pointer:\n",
    "            if pointer.value == current.value:\n",
    "                previous_pointer.nextnode = pointer.nextnode\n",
    "                pointer = pointer.nextnode\n",
    "            else:\n",
    "                previous_pointer = previous_pointer.nextnode\n",
    "                pointer = pointer.nextnode\n",
    "        current = current.nextnode\n",
    "        "
   ]
  },
  {
   "cell_type": "code",
   "execution_count": 183,
   "metadata": {},
   "outputs": [],
   "source": [
    "remove_dublicate2(a)"
   ]
  },
  {
   "cell_type": "code",
   "execution_count": 184,
   "metadata": {
    "collapsed": true
   },
   "outputs": [],
   "source": [
    "def print_list(head):\n",
    "    pointer = head\n",
    "    while pointer != None:\n",
    "        print('pointer', pointer.value)\n",
    "        pointer = pointer.nextnode"
   ]
  },
  {
   "cell_type": "code",
   "execution_count": 185,
   "metadata": {},
   "outputs": [
    {
     "name": "stdout",
     "output_type": "stream",
     "text": [
      "pointer 1\n",
      "pointer 2\n",
      "pointer 5\n"
     ]
    }
   ],
   "source": [
    "print_list(a)"
   ]
  },
  {
   "cell_type": "code",
   "execution_count": null,
   "metadata": {
    "collapsed": true
   },
   "outputs": [],
   "source": []
  },
  {
   "cell_type": "code",
   "execution_count": null,
   "metadata": {
    "collapsed": true
   },
   "outputs": [],
   "source": []
  }
 ],
 "metadata": {
  "kernelspec": {
   "display_name": "Python 3",
   "language": "python",
   "name": "python3"
  },
  "language_info": {
   "codemirror_mode": {
    "name": "ipython",
    "version": 3
   },
   "file_extension": ".py",
   "mimetype": "text/x-python",
   "name": "python",
   "nbconvert_exporter": "python",
   "pygments_lexer": "ipython3",
   "version": "3.6.1"
  }
 },
 "nbformat": 4,
 "nbformat_minor": 2
}
